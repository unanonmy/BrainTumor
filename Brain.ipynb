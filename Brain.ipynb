{
  "cells": [
    {
      "cell_type": "code",
      "execution_count": null,
      "metadata": {
        "id": "mpjp2WrUDi9h"
      },
      "outputs": [],
      "source": [
        "import os\n",
        "import PIL\n",
        "import zipfile\n",
        "import numpy as np\n",
        "import pandas as pd\n",
        "import matplotlib.pyplot as plt\n",
        "import pickle\n",
        "import h5py\n",
        "import cv2\n",
        "from google.colab.patches import cv2_imshow\n",
        "from PIL import Image\n",
        "%matplotlib inline\n",
        "import keras\n",
        "import tensorflow.keras\n",
        "from __future__ import print_function, division\n",
        "from keras.datasets import mnist\n",
        "from keras.layers import Input, Dense, Reshape, Flatten, Dropout\n",
        "from keras.layers import BatchNormalization, Activation, ZeroPadding2D\n",
        "from keras.layers.advanced_activations import LeakyReLU\n",
        "from keras.layers.convolutional import UpSampling2D, Conv2D\n",
        "from keras.models import Sequential, Model\n",
        "from tensorflow.keras.optimizers import Adam\n",
        "from tensorflow.keras.layers import Conv2D, MaxPooling2D"
      ]
    },
    {
      "cell_type": "code",
      "execution_count": null,
      "metadata": {
        "colab": {
          "base_uri": "https://localhost:8080/"
        },
        "id": "YOq-kEbF9q91",
        "outputId": "e34002e8-5a93-436c-8ef0-ed981bc78126"
      },
      "outputs": [
        {
          "name": "stdout",
          "output_type": "stream",
          "text": [
            "2.8.0\n"
          ]
        }
      ],
      "source": [
        "print(keras.__version__)"
      ]
    },
    {
      "cell_type": "code",
      "execution_count": null,
      "metadata": {
        "colab": {
          "base_uri": "https://localhost:8080/"
        },
        "id": "ZsCrW7pwDr9M",
        "outputId": "e615206c-8078-41b7-8535-5e2f880241b6"
      },
      "outputs": [
        {
          "output_type": "stream",
          "name": "stdout",
          "text": [
            "Mounted at /content/drive\n"
          ]
        }
      ],
      "source": [
        "from google.colab import drive\n",
        "drive.mount('/content/drive')"
      ]
    },
    {
      "cell_type": "markdown",
      "metadata": {
        "id": "DNmFsTxL9F0l"
      },
      "source": [
        "```  with zipfile.ZipFile('/content/drive/MyDrive/olddata/brainTumorDataPublic_1-766.zip') as zf:\n",
        "  os.mkdir('/content/drive/MyDrive/olddata/set1')\n",
        "  zip_dir = zf.namelist()[0]\n",
        "  zf.extractall('/content/drive/MyDrive/olddata/set1')[link text](https://)```"
      ]
    },
    {
      "cell_type": "markdown",
      "metadata": {
        "id": "xYrAe7eE19xg"
      },
      "source": [
        "```  with zipfile.ZipFile('/content/drive/MyDrive/olddata/brainTumorDataPublic_767-1532.zip') as zf:\n",
        "  os.mkdir('/content/drive/MyDrive/olddata/set2')\n",
        "  zip_dir = zf.namelist()[0]\n",
        "  zf.extractall('/content/drive/MyDrive/olddata/set2')  ```"
      ]
    },
    {
      "cell_type": "code",
      "execution_count": null,
      "metadata": {
        "id": "I_A845FYFr2-"
      },
      "outputs": [],
      "source": [
        "with zipfile.ZipFile('/content/drive/MyDrive/olddata/brainTumorDataPublic_1533-2298.zip') as zf:\n",
        "  os.mkdir('/content/drive/MyDrive/olddata/set3')\n",
        "  zip_dir = zf.namelist()[0]\n",
        "  zf.extractall('/content/drive/MyDrive/olddata/set3')"
      ]
    },
    {
      "cell_type": "markdown",
      "metadata": {
        "id": "SY39kJDfs11k"
      },
      "source": [
        "with zipfile.ZipFile('/content/drive/MyDrive/olddata/brainTumorDataPublic_2299-3064.zip') as zf:\n",
        "  os.mkdir('/content/drive/MyDrive/olddata/set4')\n",
        "  zip_dir = zf.namelist()[0]\n",
        "  zf.extractall('/content/drive/MyDrive/olddata/set4')"
      ]
    },
    {
      "cell_type": "code",
      "execution_count": null,
      "metadata": {
        "id": "FkmA0F9vGcIc"
      },
      "outputs": [],
      "source": [
        "os.mkdir('/content/drive/MyDrive/olddata/imgData')"
      ]
    },
    {
      "cell_type": "code",
      "execution_count": null,
      "metadata": {
        "id": "-S46sVJ_Gvtt"
      },
      "outputs": [],
      "source": [
        "!mv /content/drive/MyDrive/olddata/set1/*.mat  '/content/drive/MyDrive/olddata/imgData/'\n",
        "!mv /content/drive/MyDrive/olddata/set2/*.mat  '/content/drive/MyDrive/olddata/imgData/'\n",
        "!mv /content/drive/MyDrive/olddata/set3/*.mat  '/content/drive/MyDrive/olddata/imgData/'\n",
        "!mv /content/drive/MyDrive/olddata/set4/*.mat  '/content/drive/MyDrive/olddata/imgData/'"
      ]
    },
    {
      "cell_type": "code",
      "execution_count": null,
      "metadata": {
        "id": "OzEPlPPQJ1WB"
      },
      "outputs": [],
      "source": [
        "os.mkdir('/content/drive/MyDrive/olddata/new_imgData/img')"
      ]
    },
    {
      "cell_type": "code",
      "execution_count": null,
      "metadata": {
        "id": "GHCurJc5KtAY"
      },
      "outputs": [],
      "source": [
        "filename = None\n",
        "labels=[]\n",
        "for filename in range(1,3065):\n",
        "  with h5py.File('/content/drive/MyDrive/c/copy/olddata/imgData/{}.mat'.format(filename), 'r') as f:\n",
        "      #img = f['cjdata']['image']\n",
        "      label = f['cjdata']['label'][0][0]\n",
        "      labels.append(int(label))"
      ]
    },
    {
      "cell_type": "markdown",
      "metadata": {
        "id": "UlvaT_YXnLsd"
      },
      "source": [
        "``` filename = None\n",
        "\n",
        "for filename in range(1, 3065):\n",
        "  with h5py.File('/content/drive/MyDrive/olddata/imgData/{}.mat'.format(filename), 'r') as f:\n",
        "      img = f['cjdata']['image']\n",
        "      label = f['cjdata']['label'][0][0]\n",
        "      labels.append(int(label))\n",
        "      img = np.array(img, dtype=np.float32)\n",
        "      img = cv2.resize(img,(64,64))\n",
        "      plt.axis('off')\n",
        "      plt.imsave(\"/content/drive/MyDrive/olddata/new_imgData/img/{}.jpg\".format(filename), img, cmap='gray')\n",
        "      \n",
        "      \n",
        "print(\"{} files successfully saved\".format(filename))\n",
        "```"
      ]
    },
    {
      "cell_type": "code",
      "execution_count": null,
      "metadata": {
        "colab": {
          "base_uri": "https://localhost:8080/"
        },
        "id": "aHKjIyQsOM_x",
        "outputId": "68825a82-f152-450f-df03-bd86edc3ef44"
      },
      "outputs": [
        {
          "name": "stdout",
          "output_type": "stream",
          "text": [
            "(3064,)\n"
          ]
        }
      ],
      "source": [
        "label_names = np.array(labels, dtype=np.int64)\n",
        "print(label_names.shape)\n",
        "training_data = []"
      ]
    },
    {
      "cell_type": "markdown",
      "metadata": {
        "id": "-wlkrhNdV3D6"
      },
      "source": [
        ""
      ]
    },
    {
      "cell_type": "code",
      "execution_count": null,
      "metadata": {
        "id": "Be_dlATgNGrQ"
      },
      "outputs": [],
      "source": [
        "X_train = np.ndarray(shape=(3064,64,64),dtype=np.float32)\n",
        "#x_train = np.ndarray(shape=(2451,64,64),dtype=np.uint8)\n",
        "Y_train = np.ndarray(shape=(3064,3),dtype=np.uint8)\n",
        "#x_test = np.ndarray(shape=(613,64,64),dtype=np.uint8)\n",
        "#y_test = np.ndarray(shape=(613,),dtype=np.uint8)"
      ]
    },
    {
      "cell_type": "code",
      "execution_count": null,
      "metadata": {
        "id": "m7hH8kHxNT0u"
      },
      "outputs": [],
      "source": [
        "from keras.utils.np_utils import to_categorical\n",
        "for i in range(1, 3065):\n",
        "  img = cv2.imread(\"/content/drive/MyDrive/c/copy/olddata/new_imgData/img/{}.jpg\".format(i),0)\n",
        "  #label = label_names[i-1] -1\n",
        "  #training_data.append([img, label])\n",
        "  X_train[i-1] = img\n",
        "  #Y_train[i-1] = label\n",
        "\n",
        "#print(\"shape: {} label: {} | {} samples successfully preprocessed\".format(img.shape, label, i))"
      ]
    },
    {
      "cell_type": "code",
      "execution_count": null,
      "metadata": {
        "id": "H4T5bHLiZ-81"
      },
      "outputs": [],
      "source": [
        "from keras.utils.np_utils import to_categorical \n",
        "Y_train = to_categorical(labels,num_classes = 3)"
      ]
    },
    {
      "cell_type": "code",
      "execution_count": null,
      "metadata": {
        "id": "KBlBZuVK2M2A",
        "colab": {
          "base_uri": "https://localhost:8080/",
          "height": 268
        },
        "outputId": "a21dd35b-d328-4b51-cdba-6d67f7dbe9a8"
      },
      "outputs": [
        {
          "output_type": "display_data",
          "data": {
            "text/plain": [
              "<Figure size 432x288 with 1 Axes>"
            ],
            "image/png": "[encoded data removed]"
          },
          "metadata": {
            "needs_background": "light"
          }
        }
      ],
      "source": [
        "plt.imshow(x_test[0], interpolation='nearest')\n",
        "plt.show()\n"
      ]
    },
    {
      "cell_type": "markdown",
      "metadata": {
        "id": "6ZmcYhaiS5Ft"
      },
      "source": [
        "np.save(\"xtrain\",X_train)\n",
        "np.save(\"ytrain\",Y_train)\n",
        "np.save(\"trainingdata\",training_data)"
      ]
    },
    {
      "cell_type": "code",
      "execution_count": null,
      "metadata": {
        "id": "A_8ZgXAXnJoW"
      },
      "outputs": [],
      "source": [
        "Y_train = np.load(\"/content/drive/MyDrive/npdata/ytrain.npy\")\n",
        "X_train = np.load(\"/content/drive/MyDrive/npdata/trainx.npy\")"
      ]
    },
    {
      "cell_type": "code",
      "source": [
        "y_test[0]"
      ],
      "metadata": {
        "colab": {
          "base_uri": "https://localhost:8080/"
        },
        "id": "7HsTlEQ1LQFN",
        "outputId": "a22036ec-5174-4685-9dc2-f5abf04afa55"
      },
      "execution_count": null,
      "outputs": [
        {
          "output_type": "execute_result",
          "data": {
            "text/plain": [
              "array([0, 1, 0], dtype=uint8)"
            ]
          },
          "metadata": {},
          "execution_count": 28
        }
      ]
    },
    {
      "cell_type": "code",
      "execution_count": null,
      "metadata": {
        "id": "7DqWwlL-9HBS",
        "colab": {
          "base_uri": "https://localhost:8080/",
          "height": 268
        },
        "outputId": "b8895bcc-98a7-422c-daff-0f2ec46b7403"
      },
      "outputs": [
        {
          "output_type": "display_data",
          "data": {
            "text/plain": [
              "<Figure size 432x288 with 1 Axes>"
            ],
            "image/png": "[encoded data removed]"
          },
          "metadata": {
            "needs_background": "light"
          }
        }
      ],
      "source": [
        "plt.imshow(mg_test[0], cmap=\"gray\")\n",
        "plt.show()\n"
      ]
    },
    {
      "cell_type": "code",
      "execution_count": null,
      "metadata": {
        "id": "CFJ4D3WFwAVj"
      },
      "outputs": [],
      "source": [
        "from sklearn.model_selection import train_test_split\n",
        "x_train,x_test,y_train,y_test = train_test_split(X_train,Y_train,test_size=0.3,shuffle=True)\n",
        "#x_valid,x_test,y_valid,y_test = train_test_split(x_test,y_test,test_size=0.5,shuffle=True)\n",
        "x_train,x_test = x_train/127.5-1,x_test/127.5-1"
      ]
    },
    {
      "cell_type": "code",
      "execution_count": null,
      "metadata": {
        "colab": {
          "base_uri": "https://localhost:8080/"
        },
        "id": "zyS9mzmeywt0",
        "outputId": "0fe251ed-43be-4ca1-d6b5-73dc80a5b4a2"
      },
      "outputs": [
        {
          "output_type": "execute_result",
          "data": {
            "text/plain": [
              "(2144, 64, 64)"
            ]
          },
          "metadata": {},
          "execution_count": 27
        }
      ],
      "source": [
        "class_type = [\"meningioma\",\"glioma\",\"pituitary\"]\n",
        "x_train.shape"
      ]
    },
    {
      "cell_type": "code",
      "source": [
        "j = 1\n",
        "for x in range(x_test.shape[0]):\n",
        "  img = x_test[x]\n",
        "  label = np.argmax(y_test[x])\n",
        "  if label == 0:\n",
        "    plt.imsave(\"/content/drive/MyDrive/test/meningioma/{}.jpg\".format(j),img,cmap=\"gray\")\n",
        "    j+=1\n"
      ],
      "metadata": {
        "id": "pohkkkc4KN8V"
      },
      "execution_count": null,
      "outputs": []
    },
    {
      "cell_type": "code",
      "source": [
        "j = 1\n",
        "for x in range(x_test.shape[0]):\n",
        "  img = x_test[x]\n",
        "  label = np.argmax(y_test[x])\n",
        "  if label == 1:\n",
        "    plt.imsave(\"/content/drive/MyDrive/test/glioma/{}.jpg\".format(j),img,cmap=\"gray\")\n",
        "    j+=1\n"
      ],
      "metadata": {
        "id": "GniVlMl1MHFK"
      },
      "execution_count": null,
      "outputs": []
    },
    {
      "cell_type": "code",
      "source": [
        "j = 1\n",
        "for x in range(x_test.shape[0]):\n",
        "  img = x_test[x]\n",
        "  label = np.argmax(y_test[x])\n",
        "  if label == 2:\n",
        "    plt.imsave(\"/content/drive/MyDrive/test/pituitary/{}.jpg\".format(j),img,cmap=\"gray\")\n",
        "    j+=1\n"
      ],
      "metadata": {
        "id": "N8l0b15yMLcT"
      },
      "execution_count": null,
      "outputs": []
    },
    {
      "cell_type": "code",
      "source": [
        "from PIL import Image\n",
        "j=1\n",
        "for i in range(len(x_test)):\n",
        "  img = x_test[i]\n",
        "  ind = class_type[np.argmax(y_test[i])]\n",
        "  plt.imsave(\"/content/drive/MyDrive/test/{}/{}.jpg\".format(ind,j),img,cmap=\"gray\")\n",
        "  j+=1"
      ],
      "metadata": {
        "id": "Jr-2CydlVEjp"
      },
      "execution_count": null,
      "outputs": []
    },
    {
      "cell_type": "code",
      "execution_count": null,
      "metadata": {
        "id": "LbMO86eMEXjx"
      },
      "outputs": [],
      "source": [
        "class DCGAN():\n",
        "    def __init__(self):\n",
        "        # Input shape\n",
        "        self.img_rows = 64\n",
        "        self.img_cols = 64\n",
        "        self.channels = 1\n",
        "        self.img_shape = (self.img_rows, self.img_cols, self.channels)\n",
        "        self.latent_dim = 128\n",
        "\n",
        "        optimizer = Adam(0.0002, 0.5)\n",
        "\n",
        "        # Build and compile the discriminator\n",
        "        self.discriminator = self.build_discriminator()\n",
        "        self.discriminator.compile(loss='binary_crossentropy',\n",
        "            optimizer=optimizer,\n",
        "            metrics=['accuracy'])\n",
        "\n",
        "        # Build the generator\n",
        "        self.generator = self.build_generator()\n",
        "\n",
        "        # The generator takes noise as input and generates imgs\n",
        "        z = Input(shape=(self.latent_dim,))\n",
        "        img = self.generator(z)\n",
        "\n",
        "        # For the combined model we will only train the generator\n",
        "        self.discriminator.trainable = False\n",
        "\n",
        "        # The discriminator takes generated images as input and determines validity\n",
        "        valid = self.discriminator(img)\n",
        "\n",
        "        # The combined model  (stacked generator and discriminator)\n",
        "        # Trains the generator to fool the discriminator\n",
        "        self.combined = Model(z, valid)\n",
        "        self.combined.compile(loss='binary_crossentropy', optimizer=optimizer)\n",
        "\n",
        "    def build_generator(self):\n",
        "        print(\"--------Generator---------------\")\n",
        "        model = Sequential()\n",
        "        model.add(Dense(8192 *1 *1 ,input_dim=128))\n",
        "        model.add(Activation(\"relu\"))\n",
        "        \n",
        "        #model.add(Dense(512 * 4 * 4, activation=\"relu\", input_dim=self.latent_dim))\n",
        "        model.add(Reshape((4, 4, 512),input_shape=(4*4*512,)))\n",
        "        model.add(UpSampling2D(size=(2, 2)))\n",
        "        model.add(Conv2D(256,(5,5),strides=1,padding=\"same\"))\n",
        "        model.add(BatchNormalization(momentum=0.8))\n",
        "        model.add(Activation(\"relu\"))\n",
        "        model.add(UpSampling2D(size=(2, 2)))\n",
        "        model.add(Conv2D(128,(5,5),strides=1,padding=\"same\"))\n",
        "        model.add(BatchNormalization(momentum=0.8))\n",
        "        model.add(Activation(\"relu\"))\n",
        "        model.add(UpSampling2D(size=(2, 2)))\n",
        "        model.add(Conv2D(64,(5,5), strides=1,padding=\"same\"))\n",
        "        model.add(BatchNormalization(momentum=0.8))\n",
        "        model.add(Activation(\"relu\"))\n",
        "        model.add(UpSampling2D(size=(2, 2)))\n",
        "        model.add(Conv2D(1, (3,3), strides=1,padding=\"same\"))\n",
        "        model.add(Activation(\"tanh\"))\n",
        "\n",
        "        model.summary()\n",
        "\n",
        "        noise = Input(shape=(self.latent_dim,))\n",
        "        img = model(noise)\n",
        "\n",
        "        return Model(noise, img)\n",
        "\n",
        "    def build_discriminator(self):\n",
        "        print(\"--------Discriminator---------------\")\n",
        "        model = Sequential()\n",
        "        \n",
        "        model.add(\n",
        "            Conv2D(64, (5, 5),\n",
        "            strides=1,\n",
        "            input_shape=(64, 64, 1))\n",
        "            )\n",
        "        model.add(Activation('relu'))\n",
        "        model.add(MaxPooling2D(pool_size=(2, 2)))\n",
        "        model.add(Conv2D(64, (5, 5),strides=1))\n",
        "        model.add(Activation('relu'))\n",
        "        model.add(MaxPooling2D(pool_size=(2, 2)))\n",
        "        model.add(Conv2D(64, (5, 5),strides=1))\n",
        "        model.add(Activation('relu'))\n",
        "        model.add(Dropout(0.5))\n",
        "        model.add(MaxPooling2D(pool_size=(2, 2)))\n",
        "        model.add(Reshape((1,1,1024)))\n",
        "        model.add(Flatten())\n",
        "        model.add(Dense(800))\n",
        "        model.add(Activation('relu'))\n",
        "        model.add(Dropout(0.5))\n",
        "        model.add(Dense(800))\n",
        "        model.add(Activation('relu'))\n",
        "        model.add(Dropout(0.5))\n",
        "        model.add(Dense(1))\n",
        "        model.add(Activation('sigmoid'))\n",
        "        model.summary()\n",
        "\n",
        "        img = Input(shape=self.img_shape)\n",
        "        validity = model(img)\n",
        "\n",
        "        return Model(img, validity)\n",
        "\n",
        "    def train(self, epochs, batch_size=64, save_interval=50):\n",
        "\n",
        "        # Load the dataset\n",
        "        # Rescale -1 to 1\n",
        "        global X_train \n",
        "        X_train = X_train / 127.5 - 1\n",
        "        X_train = np.expand_dims(X_train, axis=3)\n",
        "\n",
        "        # Adversarial ground truths\n",
        "        valid = np.ones((batch_size, 1))\n",
        "        fake = np.zeros((batch_size, 1))\n",
        "\n",
        "        for epoch in range(epochs):\n",
        "\n",
        "\n",
        "            # Select a random half of images\n",
        "            idx = np.random.randint(0, X_train.shape[0], batch_size)\n",
        "            imgs = X_train[idx]\n",
        "\n",
        "            # Sample noise and generate a batch of new images\n",
        "            noise = np.random.normal(0, 1, (batch_size, self.latent_dim))\n",
        "            gen_imgs = self.generator.predict(noise)\n",
        "\n",
        "            # Train the discriminator (real classified as ones and generated as zeros)\n",
        "            d_loss_real = self.discriminator.train_on_batch(imgs, valid)\n",
        "            d_loss_fake = self.discriminator.train_on_batch(gen_imgs, fake)\n",
        "            d_loss = 0.5 * np.add(d_loss_real, d_loss_fake)\n",
        "\n",
        "            # ---------------------#\n",
        "            #  Train Generator\n",
        "        \n",
        "\n",
        "            # Train the generator (wants discriminator to mistake images as real)\n",
        "            g_loss = self.combined.train_on_batch(noise, valid)\n",
        "\n",
        "            # Plot the progress\n",
        "            print (\"%d [D loss: %f, acc.: %.2f%%] [G loss: %f]\" % (epoch, d_loss[0], 100*d_loss[1], g_loss))\n",
        "\n",
        "            # If at save interval => save generated image samples\n",
        "            if epoch == 10000:\n",
        "              self.discriminator.save(\"/content/drive/MyDrive/model/newdis15.h5\")\n",
        "            if epoch % save_interval == 0:\n",
        "                self.save_imgs(epoch)\n",
        "                \n",
        "\n",
        "    def save_imgs(self, epoch):\n",
        "        r, c = 5, 5\n",
        "        noise = np.random.normal(0, 1, (r * c, self.latent_dim))\n",
        "        gen_imgs = self.generator.predict(noise)\n",
        "\n",
        "        # Rescale images 0 - 1\n",
        "        gen_imgs = 0.5 * gen_imgs + 0.5\n",
        "\n",
        "        fig, axs = plt.subplots(r, c)\n",
        "        cnt = 0\n",
        "        for i in range(r):\n",
        "            for j in range(c):\n",
        "                axs[i,j].imshow(gen_imgs[cnt, :,:,0], cmap='gray')\n",
        "                axs[i,j].axis('off')\n",
        "                cnt += 1\n",
        "        fig.savefig(\"/content/drive/MyDrive/images/apr-6_%d.png\" % epoch)\n",
        "        plt.close()\n"
      ]
    },
    {
      "cell_type": "markdown",
      "metadata": {
        "id": "DhSMt1ZE9Trx"
      },
      "source": [
        "    dcgan = DCGAN()\n",
        "    dcgan.train(epochs=10001, batch_size=64, save_interval=50)"
      ]
    },
    {
      "cell_type": "code",
      "execution_count": null,
      "metadata": {
        "id": "bJsPa3GfUQfh"
      },
      "outputs": [],
      "source": [
        "dcgan = DCGAN()\n",
        "dcgan.train(epochs=10001, batch_size=64, save_interval=50)"
      ]
    },
    {
      "cell_type": "code",
      "execution_count": null,
      "metadata": {
        "id": "n-f4yrdcNnBJ"
      },
      "outputs": [],
      "source": [
        "model = keras.models.load_model('/content/drive/MyDrive/model/dis_model.h5',compile=False)"
      ]
    },
    {
      "cell_type": "code",
      "execution_count": null,
      "metadata": {
        "id": "-TZUuoymTTtL"
      },
      "outputs": [],
      "source": [
        "md = Sequential(model.layers[1].layers[:15])\n",
        "md.add(Dense(3,activation=\"softmax\"))\n"
      ]
    },
    {
      "cell_type": "code",
      "execution_count": null,
      "metadata": {
        "id": "kZZMTJFYY2kx"
      },
      "outputs": [],
      "source": [
        "for i in md.layers:\n",
        "  i.trainable = True\n",
        "for i in md.layers:\n",
        "  print(i,i.trainable)\n",
        "\n",
        "#md.summary()"
      ]
    },
    {
      "cell_type": "code",
      "execution_count": null,
      "metadata": {
        "id": "mDstz8KnwznD"
      },
      "outputs": [],
      "source": [
        "md.layers[15].trainable = True\n",
        "#md.summary()"
      ]
    },
    {
      "cell_type": "code",
      "execution_count": null,
      "metadata": {
        "id": "uKCLRpprZwIt"
      },
      "outputs": [],
      "source": [
        "opt = tensorflow.keras.optimizers.SGD(\n",
        "    learning_rate=0.01)\n",
        "\n",
        "\n",
        "md.compile( loss = \"categorical_crossentropy\", \n",
        "               optimizer = \"adam\", \n",
        "               metrics=['accuracy']\n",
        "             )"
      ]
    },
    {
      "cell_type": "code",
      "execution_count": null,
      "metadata": {
        "colab": {
          "base_uri": "https://localhost:8080/"
        },
        "id": "rbYDR2S9crUX",
        "outputId": "90111b4e-c967-4ffe-eb59-42833f9ab683"
      },
      "outputs": [
        {
          "output_type": "stream",
          "name": "stdout",
          "text": [
            "Epoch 1/15\n",
            "67/67 [==============================] - 11s 16ms/step - loss: 0.6813 - accuracy: 0.6908 - val_loss: 0.5293 - val_accuracy: 0.7870\n",
            "Epoch 2/15\n",
            "67/67 [==============================] - 1s 10ms/step - loss: 0.4414 - accuracy: 0.8060 - val_loss: 0.4623 - val_accuracy: 0.8174\n",
            "Epoch 3/15\n",
            "67/67 [==============================] - 1s 9ms/step - loss: 0.3181 - accuracy: 0.8713 - val_loss: 0.3159 - val_accuracy: 0.9065\n",
            "Epoch 4/15\n",
            "67/67 [==============================] - 1s 9ms/step - loss: 0.2125 - accuracy: 0.9165 - val_loss: 0.2460 - val_accuracy: 0.9174\n",
            "Epoch 5/15\n",
            "67/67 [==============================] - 1s 9ms/step - loss: 0.1773 - accuracy: 0.9282 - val_loss: 0.2441 - val_accuracy: 0.9283\n",
            "Epoch 6/15\n",
            "67/67 [==============================] - 1s 9ms/step - loss: 0.1586 - accuracy: 0.9431 - val_loss: 0.1839 - val_accuracy: 0.9130\n",
            "Epoch 7/15\n",
            "67/67 [==============================] - 1s 9ms/step - loss: 0.0933 - accuracy: 0.9627 - val_loss: 0.1841 - val_accuracy: 0.9283\n",
            "Epoch 8/15\n",
            "67/67 [==============================] - 1s 12ms/step - loss: 0.0928 - accuracy: 0.9641 - val_loss: 0.1458 - val_accuracy: 0.9348\n",
            "Epoch 9/15\n",
            "67/67 [==============================] - 1s 12ms/step - loss: 0.0628 - accuracy: 0.9767 - val_loss: 0.3599 - val_accuracy: 0.8739\n",
            "Epoch 10/15\n",
            "67/67 [==============================] - 1s 11ms/step - loss: 0.0713 - accuracy: 0.9729 - val_loss: 0.1645 - val_accuracy: 0.9413\n",
            "Epoch 11/15\n",
            "67/67 [==============================] - 1s 9ms/step - loss: 0.0356 - accuracy: 0.9865 - val_loss: 0.1241 - val_accuracy: 0.9565\n",
            "Epoch 12/15\n",
            "67/67 [==============================] - 1s 9ms/step - loss: 0.0325 - accuracy: 0.9893 - val_loss: 0.1932 - val_accuracy: 0.9304\n",
            "Epoch 13/15\n",
            "67/67 [==============================] - 1s 9ms/step - loss: 0.0353 - accuracy: 0.9851 - val_loss: 0.1561 - val_accuracy: 0.9391\n",
            "Epoch 14/15\n",
            "67/67 [==============================] - 1s 9ms/step - loss: 0.0329 - accuracy: 0.9869 - val_loss: 0.1819 - val_accuracy: 0.9348\n",
            "Epoch 15/15\n",
            "67/67 [==============================] - 1s 9ms/step - loss: 0.0602 - accuracy: 0.9767 - val_loss: 0.1557 - val_accuracy: 0.9522\n"
          ]
        }
      ],
      "source": [
        "history = md.fit(x_train,y_train,validation_data=(x_valid,y_valid),epochs=15)"
      ]
    },
    {
      "cell_type": "code",
      "execution_count": null,
      "metadata": {
        "colab": {
          "base_uri": "https://localhost:8080/",
          "height": 300
        },
        "id": "I_OZbRRPPcY6",
        "outputId": "52e665c7-559c-4603-a1e6-28e39a990497"
      },
      "outputs": [
        {
          "output_type": "stream",
          "name": "stdout",
          "text": [
            "15/15 - 0s - loss: 0.1629 - accuracy: 0.9435 - 69ms/epoch - 5ms/step\n"
          ]
        },
        {
          "output_type": "display_data",
          "data": {
            "text/plain": [
              "<Figure size 432x288 with 1 Axes>"
            ],
            "image/png": "[encoded data removed]"
          },
          "metadata": {
            "needs_background": "light"
          }
        }
      ],
      "source": [
        "\n",
        "plt.plot(history.history['accuracy'], label='accuracy')\n",
        "plt.plot(history.history['val_accuracy'], label = 'val_accuracy')\n",
        "plt.xlabel('Epoch')\n",
        "plt.ylabel('Accuracy')\n",
        "plt.ylim([0.5, 1])\n",
        "plt.legend(loc='lower right')\n",
        "\n",
        "test_loss, test_acc = md.evaluate(x_test,  y_test, verbose=2)\n"
      ]
    },
    {
      "cell_type": "code",
      "execution_count": null,
      "metadata": {
        "colab": {
          "base_uri": "https://localhost:8080/"
        },
        "id": "vJ7Tb3oepzTE",
        "outputId": "f59e7038-17b6-47ed-eca8-d881d1fcffe5"
      },
      "outputs": [
        {
          "output_type": "stream",
          "name": "stdout",
          "text": [
            "0.9434782862663269\n"
          ]
        }
      ],
      "source": [
        "print(test_acc)"
      ]
    },
    {
      "cell_type": "markdown",
      "metadata": {
        "id": "KPp8vFoIexgz"
      },
      "source": [
        "```        0.958876346623446```"
      ]
    },
    {
      "cell_type": "code",
      "execution_count": null,
      "metadata": {
        "id": "sEpQAZflfRTm"
      },
      "outputs": [],
      "source": [
        "s = md.predict(x_test[-20:])"
      ]
    },
    {
      "cell_type": "code",
      "execution_count": null,
      "metadata": {
        "id": "RUyPp83S0OfX"
      },
      "outputs": [],
      "source": [
        "metric = tensorflow.metrics.F1Score(num_classes=3, threshold=0.5)\n",
        "y_true = y_test[-20:]\n",
        "y_pred = np.array([[0.2, 0.6, 0.7],\n",
        "                   [0.2, 0.6, 0.6],\n",
        "                   [0.6, 0.8, 0.0]], np.float32)\n",
        "metric.update_state(y_true, y_pred)\n",
        "result = metric.result()\n",
        "result.numpy()\n",
        "\n"
      ]
    },
    {
      "cell_type": "code",
      "execution_count": null,
      "metadata": {
        "id": "hIGdip1lXkZd"
      },
      "outputs": [],
      "source": [
        "mdd = keras.models.load_model(\"/content/drive/MyDrive/finalmodel/model.h5\")"
      ]
    },
    {
      "cell_type": "code",
      "source": [
        "mg_test = np.ndarray(shape=(282,64,64),dtype=np.float32)"
      ],
      "metadata": {
        "id": "136NgB2yQlwn"
      },
      "execution_count": null,
      "outputs": []
    },
    {
      "cell_type": "code",
      "source": [
        "for i in range(1,283):\n",
        "  img = cv2.imread(\"/content/drive/MyDrive/test/pituitary/{}.jpg\".format(i),0)\n",
        "  mg_test[i-1]=img"
      ],
      "metadata": {
        "id": "VfqH7mYpQfUr"
      },
      "execution_count": null,
      "outputs": []
    },
    {
      "cell_type": "code",
      "source": [
        ""
      ],
      "metadata": {
        "id": "dunJidYPQ_gV"
      },
      "execution_count": null,
      "outputs": []
    },
    {
      "cell_type": "code",
      "execution_count": null,
      "metadata": {
        "id": "N9mkyei0sZjy"
      },
      "outputs": [],
      "source": [
        "pred = mdd.predict(mg_test)\n",
        "pred = np.argmax(pred,axis=1)"
      ]
    },
    {
      "cell_type": "code",
      "source": [
        "pred"
      ],
      "metadata": {
        "colab": {
          "base_uri": "https://localhost:8080/"
        },
        "id": "Fnfj1UjMRkvX",
        "outputId": "65d3f58c-a632-428b-e46d-009ce6e280c0"
      },
      "execution_count": null,
      "outputs": [
        {
          "output_type": "execute_result",
          "data": {
            "text/plain": [
              "array([2, 2, 2, 2, 1, 2, 2, 1, 1, 2, 2, 2, 2, 2, 2, 2, 2, 1, 1, 2, 1, 2,\n",
              "       1, 2, 2, 2, 2, 2, 2, 2, 1, 2, 1, 2, 1, 2, 2, 2, 2, 2, 1, 2, 2, 2,\n",
              "       2, 2, 2, 2, 2, 2, 2, 2, 2, 1, 2, 2, 2, 2, 2, 2, 2, 2, 1, 2, 2, 2,\n",
              "       2, 2, 2, 2, 2, 2, 2, 2, 2, 1, 1, 2, 2, 2, 2, 1, 2, 2, 1, 1, 2, 2,\n",
              "       2, 2, 2, 2, 2, 2, 2, 2, 2, 1, 2, 1, 2, 2, 2, 2, 2, 1, 1, 2, 2, 1,\n",
              "       2, 1, 2, 2, 2, 2, 2, 1, 2, 2, 1, 2, 2, 2, 2, 2, 2, 2, 2, 2, 2, 2,\n",
              "       1, 2, 2, 1, 2, 2, 2, 2, 2, 2, 2, 2, 2, 2, 1, 2, 2, 2, 1, 1, 2, 1,\n",
              "       1, 2, 2, 1, 2, 1, 2, 2, 2, 2, 1, 2, 2, 1, 2, 2, 1, 2, 2, 1, 2, 2,\n",
              "       2, 2, 1, 2, 2, 2, 2, 2, 2, 2, 2, 1, 2, 1, 2, 2, 2, 2, 2, 2, 2, 2,\n",
              "       1, 2, 2, 2, 2, 2, 2, 1, 2, 1, 1, 2, 1, 2, 2, 2, 2, 2, 2, 2, 2, 2,\n",
              "       2, 2, 2, 1, 2, 2, 2, 2, 2, 2, 2, 2, 2, 2, 1, 1, 2, 2, 2, 1, 2, 2,\n",
              "       2, 2, 1, 1, 2, 2, 2, 2, 1, 2, 1, 2, 2, 2, 2, 1, 1, 2, 2, 2, 2, 2,\n",
              "       1, 1, 1, 1, 2, 2, 2, 2, 2, 2, 2, 1, 2, 2, 2, 2, 2, 1])"
            ]
          },
          "metadata": {},
          "execution_count": 40
        }
      ]
    },
    {
      "cell_type": "code",
      "source": [
        "j=1\n",
        "for x in range(len(pred)):\n",
        "  if pred[x] == 2:\n",
        "    img = mg_test[x]\n",
        "    plt.imsave(\"/content/drive/MyDrive/real/pituitary/{}.jpg\".format(j),img,cmap=\"gray\")\n",
        "    j+=1\n"
      ],
      "metadata": {
        "id": "w6wPoj29TNuH"
      },
      "execution_count": null,
      "outputs": []
    },
    {
      "cell_type": "code",
      "execution_count": null,
      "metadata": {
        "id": "Zc1tUDKdVw35"
      },
      "outputs": [],
      "source": [
        "y_test_new = np.argmax(y_test,axis=1)"
      ]
    },
    {
      "cell_type": "code",
      "execution_count": null,
      "metadata": {
        "colab": {
          "base_uri": "https://localhost:8080/"
        },
        "id": "daZE9D7uWRGD",
        "outputId": "8f6ec69a-4225-4743-d813-7e8fd7bdcdf2"
      },
      "outputs": [
        {
          "output_type": "stream",
          "name": "stdout",
          "text": [
            "              precision    recall  f1-score   support\n",
            "\n",
            "           0       0.93      0.82      0.87       102\n",
            "           1       0.91      0.98      0.94       210\n",
            "           2       1.00      0.98      0.99       148\n",
            "\n",
            "    accuracy                           0.94       460\n",
            "   macro avg       0.95      0.93      0.94       460\n",
            "weighted avg       0.94      0.94      0.94       460\n",
            "\n"
          ]
        }
      ],
      "source": [
        "from sklearn.metrics import classification_report,confusion_matrix\n",
        "print(classification_report(y_test_new,pred))"
      ]
    },
    {
      "cell_type": "code",
      "execution_count": null,
      "metadata": {
        "colab": {
          "base_uri": "https://localhost:8080/",
          "height": 312
        },
        "id": "3Zg_fCqaY36O",
        "outputId": "3f17ae0a-1636-41b6-f008-461efcbacdc1"
      },
      "outputs": [
        {
          "output_type": "execute_result",
          "data": {
            "text/plain": [
              "[Text(0, 0.5, 'meningioma'), Text(0, 1.5, 'glioma'), Text(0, 2.5, 'pituitary')]"
            ]
          },
          "metadata": {},
          "execution_count": 24
        },
        {
          "output_type": "display_data",
          "data": {
            "text/plain": [
              "<Figure size 432x288 with 2 Axes>"
            ],
            "image/png": "[encoded data removed]"
          },
          "metadata": {
            "needs_background": "light"
          }
        }
      ],
      "source": [
        "import seaborn as sns\n",
        "from sklearn.metrics import confusion_matrix\n",
        "\n",
        "ax = plt.subplot()\n",
        "\n",
        "cm = confusion_matrix(y_test_new,pred)\n",
        "f = sns.heatmap(cm, annot=True, fmt='d',ax=ax)\n",
        "\n",
        "\n",
        "ax.set_xlabel('Predicted labels');ax.set_ylabel('True labels'); \n",
        "ax.set_title('Confusion Matrix'); \n",
        "ax.xaxis.set_ticklabels(class_type); ax.yaxis.set_ticklabels(class_type)"
      ]
    },
    {
      "cell_type": "code",
      "execution_count": null,
      "metadata": {
        "id": "RrMu7RYCobGm"
      },
      "outputs": [],
      "source": [
        "gli=np.ndarray(shape=(5,64,64),dtype=np.float32)\n",
        "men=np.ndarray(shape=(5,64,64),dtype=np.float32)\n",
        "no=np.ndarray(shape=(5,64,64),dtype=np.float32)\n",
        "pi=np.ndarray(shape=(5,64,64),dtype=np.float32)"
      ]
    },
    {
      "cell_type": "code",
      "execution_count": null,
      "metadata": {
        "id": "ezf4kdAub6R5"
      },
      "outputs": [],
      "source": [
        "\n",
        "for i in range(1, 6):\n",
        "  img = cv2.imread(\"/content/drive/MyDrive/other/Testing/glioma_tumor/{}.jpg\".format(i),0)\n",
        "  img=cv2.resize(img,(64,64))\n",
        "  #label = label_names[i-1] -1\n",
        "  #training_data.append([img, label])\n",
        "  gli[i-1] = img\n",
        "  #Y_train[i-1] = label\n",
        "\n",
        "#print(\"shape: {} label: {} | {} samples successfully preprocessed\".format(img.shape, label, i))"
      ]
    },
    {
      "cell_type": "code",
      "execution_count": null,
      "metadata": {
        "id": "YhPxwljxHo83"
      },
      "outputs": [],
      "source": [
        "\n",
        "for i in range(1, 6):\n",
        "  img = cv2.imread(\"/content/drive/MyDrive/other/Testing/meningioma_tumor/{}.jpg\".format(i),0)\n",
        "  img=cv2.resize(img,(64,64))\n",
        "  #label = label_names[i-1] -1\n",
        "  #training_data.append([img, label])\n",
        "  men[i-1] = img\n",
        "  #Y_train[i-1] = label\n",
        "\n",
        "#print(\"shape: {} label: {} | {} samples successfully preprocessed\".format(img.shape, label, i))"
      ]
    },
    {
      "cell_type": "code",
      "execution_count": null,
      "metadata": {
        "id": "Jtx1NaE1Hptk"
      },
      "outputs": [],
      "source": [
        "\n",
        "for i in range(1, 6):\n",
        "  img = cv2.imread(\"/content/drive/MyDrive/other/Testing/no_tumor/{}.jpg\".format(i),0)\n",
        "  img=cv2.resize(img,(64,64))\n",
        "  #label = label_names[i-1] -1\n",
        "  #training_data.append([img, label])\n",
        "  no[i-1] = img\n",
        "  #Y_train[i-1] = label\n",
        "\n",
        "#print(\"shape: {} label: {} | {} samples successfully preprocessed\".format(img.shape, label, i))"
      ]
    },
    {
      "cell_type": "code",
      "execution_count": null,
      "metadata": {
        "id": "Z9rBzfT7HrBO"
      },
      "outputs": [],
      "source": [
        "\n",
        "for i in range(1, 6):\n",
        "  img = cv2.imread(\"/content/drive/MyDrive/other/Testing/pituitary_tumor/{}.jpg\".format(i),0)\n",
        "  img=cv2.resize(img,(64,64))\n",
        "  #label = label_names[i-1] -1\n",
        "  #training_data.append([img, label])\n",
        "  pi[i-1] = img\n",
        "  #Y_train[i-1] = label\n",
        "\n",
        "#print(\"shape: {} label: {} | {} samples successfully preprocessed\".format(img.shape, label, i))"
      ]
    },
    {
      "cell_type": "code",
      "execution_count": null,
      "metadata": {
        "colab": {
          "base_uri": "https://localhost:8080/"
        },
        "id": "Almfv3szcrQm",
        "outputId": "d9acb814-2dac-4eeb-9af0-5d3612deccda"
      },
      "outputs": [
        {
          "name": "stdout",
          "output_type": "stream",
          "text": [
            "2\n",
            "0\n",
            "2\n",
            "2\n",
            "2\n"
          ]
        }
      ],
      "source": [
        "s=md.predict(gli[:5])\n",
        "for i in s:\n",
        "  print(np.argmax(i))"
      ]
    },
    {
      "cell_type": "code",
      "execution_count": null,
      "metadata": {
        "colab": {
          "base_uri": "https://localhost:8080/"
        },
        "id": "lj8-fAt9IGft",
        "outputId": "660abe58-ae00-45e0-e985-dae1eabb3f90"
      },
      "outputs": [
        {
          "name": "stdout",
          "output_type": "stream",
          "text": [
            "0\n",
            "2\n",
            "2\n",
            "2\n",
            "2\n"
          ]
        }
      ],
      "source": [
        "s=md.predict(men[:5])\n",
        "for i in s:\n",
        "  print(np.argmax(i))"
      ]
    },
    {
      "cell_type": "code",
      "execution_count": null,
      "metadata": {
        "colab": {
          "base_uri": "https://localhost:8080/"
        },
        "id": "epA-ZbrqIGT1",
        "outputId": "d5c1db02-bed5-40cb-e217-ac401b496dc5"
      },
      "outputs": [
        {
          "name": "stdout",
          "output_type": "stream",
          "text": [
            "0\n",
            "0\n",
            "0\n",
            "0\n",
            "2\n"
          ]
        }
      ],
      "source": [
        "s=md.predict(no[:5])\n",
        "for i in s:\n",
        "  print(np.argmax(i))"
      ]
    },
    {
      "cell_type": "code",
      "execution_count": null,
      "metadata": {
        "colab": {
          "base_uri": "https://localhost:8080/"
        },
        "id": "2yBva0SFIGHx",
        "outputId": "7c661aa9-85c1-4d1b-993a-0c49e57673d3"
      },
      "outputs": [
        {
          "name": "stdout",
          "output_type": "stream",
          "text": [
            "2\n",
            "2\n",
            "2\n",
            "2\n",
            "2\n"
          ]
        }
      ],
      "source": [
        "s=md.predict(pi[:5])\n",
        "for i in s:\n",
        "  print(np.argmax(i))"
      ]
    },
    {
      "cell_type": "code",
      "execution_count": null,
      "metadata": {
        "id": "PS36gkLCAo8e"
      },
      "outputs": [],
      "source": [
        ""
      ]
    },
    {
      "cell_type": "markdown",
      "metadata": {
        "id": "_GHEWZPQcheF"
      },
      "source": [
        "from sklearn.model_selection import KFold\n",
        "from sklearn.model_selection import cross_val_score\n",
        "kf = KFold(n_splits=10)\n",
        "for train_index, test_index in kf.split(X_train):\n",
        "   x_train, x_test = X_train[train_index], X_train[test_index]\n",
        "   y_train, y_test = Y_train[train_index], Y_train[test_index]\n",
        "   history = md.fit(x_train,y_train,epochs=2)\n",
        "   test_loss, test_acc= md.evaluate(x_test,  y_test, verbose=2)\n",
        "\n",
        "\n",
        "\n"
      ]
    },
    {
      "cell_type": "code",
      "execution_count": null,
      "metadata": {
        "id": "JoHGRnTLM21Z"
      },
      "outputs": [],
      "source": [
        "\n",
        "md.save(\"/content/drive/MyDrive/model/final.h5\")"
      ]
    },
    {
      "cell_type": "code",
      "execution_count": null,
      "metadata": {
        "id": "Fy9_VgGm5NXl"
      },
      "outputs": [],
      "source": [
        "md.save(\"/content/drive/MyDrive/finalmodel/model.h5\")"
      ]
    },
    {
      "cell_type": "markdown",
      "metadata": {
        "id": "4aQQr462XHrL"
      },
      "source": [
        "``` im=cv2.imread(\"/content/drive/MyDrive/olddata/new_imgData/img/1.jpg\",0)\n",
        "im=im.reshape(-1,64,64,1) ```"
      ]
    }
  ],
  "metadata": {
    "accelerator": "GPU",
    "colab": {
      "collapsed_sections": [],
      "name": "Copy of dataset_prep.ipynb",
      "provenance": []
    },
    "kernelspec": {
      "display_name": "Python 3",
      "name": "python3"
    },
    "language_info": {
      "name": "python"
    }
  },
  "nbformat": 4,
  "nbformat_minor": 0
}